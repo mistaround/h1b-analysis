{
 "cells": [
  {
   "cell_type": "markdown",
   "metadata": {},
   "source": [
    "### H1B Data Exploration and Cleanup\n",
    "______"
   ]
  },
  {
   "cell_type": "markdown",
   "metadata": {},
   "source": [
    "#### Download Dataset\n",
    "\n",
    "Run (MacOS/Linux)\n",
    "\n",
    "```shell\n",
    "chmod a+x download.sh\n",
    "./download.sh\n",
    "```\n",
    "---------"
   ]
  },
  {
   "cell_type": "markdown",
   "metadata": {},
   "source": [
    "#### Combine quarterly data into yearly data\n",
    "Convert Excel to CSV since pandas read csv faster and this takes approximately one hour"
   ]
  },
  {
   "cell_type": "code",
   "execution_count": 2,
   "metadata": {},
   "outputs": [],
   "source": [
    "import glob\n",
    "import pandas as pd"
   ]
  },
  {
   "cell_type": "code",
   "execution_count": 10,
   "metadata": {},
   "outputs": [
    {
     "name": "stdout",
     "output_type": "stream",
     "text": [
      "Combining and Transforming excel file to csv\n",
      "Starting Year 2017\n",
      "Reading File 1 / 1\n",
      "Combining File 1 / 1\n"
     ]
    },
    {
     "name": "stderr",
     "output_type": "stream",
     "text": [
      "/var/folders/5v/ngr5t86d7t7flrv7l2wlwy4r0000gn/T/ipykernel_30671/2199148453.py:14: FutureWarning: The frame.append method is deprecated and will be removed from pandas in a future version. Use pandas.concat instead.\n",
      "  year_df = year_df.append(excel_list[i], ignore_index = True)\n"
     ]
    },
    {
     "name": "stdout",
     "output_type": "stream",
     "text": [
      "Transforming File\n",
      "File for Year 2017 saved\n",
      "Starting Year 2018\n",
      "Reading File 1 / 1\n",
      "Combining File 1 / 1\n"
     ]
    },
    {
     "name": "stderr",
     "output_type": "stream",
     "text": [
      "/var/folders/5v/ngr5t86d7t7flrv7l2wlwy4r0000gn/T/ipykernel_30671/2199148453.py:14: FutureWarning: The frame.append method is deprecated and will be removed from pandas in a future version. Use pandas.concat instead.\n",
      "  year_df = year_df.append(excel_list[i], ignore_index = True)\n"
     ]
    },
    {
     "name": "stdout",
     "output_type": "stream",
     "text": [
      "Transforming File\n",
      "File for Year 2018 saved\n",
      "Starting Year 2019\n",
      "Reading File 1 / 1\n",
      "Combining File 1 / 1\n"
     ]
    },
    {
     "name": "stderr",
     "output_type": "stream",
     "text": [
      "/var/folders/5v/ngr5t86d7t7flrv7l2wlwy4r0000gn/T/ipykernel_30671/2199148453.py:14: FutureWarning: The frame.append method is deprecated and will be removed from pandas in a future version. Use pandas.concat instead.\n",
      "  year_df = year_df.append(excel_list[i], ignore_index = True)\n"
     ]
    },
    {
     "name": "stdout",
     "output_type": "stream",
     "text": [
      "Transforming File\n",
      "File for Year 2019 saved\n",
      "Starting Year 2020\n",
      "Reading File 1 / 4\n",
      "Reading File 2 / 4\n",
      "Reading File 3 / 4\n",
      "Reading File 4 / 4\n",
      "Combining File 1 / 4\n",
      "Combining File 2 / 4\n"
     ]
    },
    {
     "name": "stderr",
     "output_type": "stream",
     "text": [
      "/var/folders/5v/ngr5t86d7t7flrv7l2wlwy4r0000gn/T/ipykernel_30671/2199148453.py:14: FutureWarning: The frame.append method is deprecated and will be removed from pandas in a future version. Use pandas.concat instead.\n",
      "  year_df = year_df.append(excel_list[i], ignore_index = True)\n"
     ]
    },
    {
     "name": "stdout",
     "output_type": "stream",
     "text": [
      "Combining File 3 / 4\n",
      "Combining File 4 / 4\n",
      "Transforming File\n",
      "File for Year 2020 saved\n",
      "Starting Year 2021\n",
      "Reading File 1 / 4\n",
      "Reading File 2 / 4\n",
      "Reading File 3 / 4\n",
      "Reading File 4 / 4\n",
      "Combining File 1 / 4\n",
      "Combining File 2 / 4\n"
     ]
    },
    {
     "name": "stderr",
     "output_type": "stream",
     "text": [
      "/var/folders/5v/ngr5t86d7t7flrv7l2wlwy4r0000gn/T/ipykernel_30671/2199148453.py:14: FutureWarning: The frame.append method is deprecated and will be removed from pandas in a future version. Use pandas.concat instead.\n",
      "  year_df = year_df.append(excel_list[i], ignore_index = True)\n"
     ]
    },
    {
     "name": "stdout",
     "output_type": "stream",
     "text": [
      "Combining File 3 / 4\n",
      "Combining File 4 / 4\n",
      "Transforming File\n",
      "File for Year 2021 saved\n",
      "Starting Year 2022\n",
      "Reading File 1 / 4\n",
      "Reading File 2 / 4\n",
      "Reading File 3 / 4\n",
      "Reading File 4 / 4\n",
      "Combining File 1 / 4\n",
      "Combining File 2 / 4\n"
     ]
    },
    {
     "name": "stderr",
     "output_type": "stream",
     "text": [
      "/var/folders/5v/ngr5t86d7t7flrv7l2wlwy4r0000gn/T/ipykernel_30671/2199148453.py:14: FutureWarning: The frame.append method is deprecated and will be removed from pandas in a future version. Use pandas.concat instead.\n",
      "  year_df = year_df.append(excel_list[i], ignore_index = True)\n"
     ]
    },
    {
     "name": "stdout",
     "output_type": "stream",
     "text": [
      "Combining File 3 / 4\n",
      "Combining File 4 / 4\n",
      "Transforming File\n",
      "File for Year 2022 saved\n"
     ]
    }
   ],
   "source": [
    "years = ['2017', '2018', '2019', '2020', '2021', '2022']\n",
    "\n",
    "print('Combining and Transforming excel file to csv')\n",
    "for year in years:\n",
    "    print(f'Starting Year {year}')\n",
    "    file_list = glob.glob('data/' + year + '/*.xlsx')\n",
    "    excel_list=[]\n",
    "    num = len(file_list)\n",
    "    for i in range(num):\n",
    "        print(f'Reading File {i+1} / {num}')\n",
    "        excel_list.append(pd.read_excel(file_list[i]))\n",
    "    year_df = pd.DataFrame()\n",
    "    for i in range(num):\n",
    "        print(f'Combining File {i+1} / {num}')\n",
    "        year_df = year_df.append(excel_list[i], ignore_index = True)\n",
    "    print('Transforming File')\n",
    "    year_df.to_csv ('data/' + year + '/raw.csv', index = None, header=True)\n",
    "    print(f'File for Year {year} saved')"
   ]
  },
  {
   "cell_type": "markdown",
   "metadata": {},
   "source": [
    "Can safely delete Excel files (Optional)\n",
    "\n",
    "Run (MacOS/Linux)\n",
    "```\n",
    "chmod a+x delete.sh\n",
    "./delete.sh\n",
    "```"
   ]
  },
  {
   "cell_type": "markdown",
   "metadata": {},
   "source": [
    "______"
   ]
  },
  {
   "cell_type": "markdown",
   "metadata": {},
   "source": [
    "#### Select Useful Columns"
   ]
  },
  {
   "cell_type": "markdown",
   "metadata": {},
   "source": [
    "Take Year 2022 for example"
   ]
  },
  {
   "cell_type": "code",
   "execution_count": 3,
   "metadata": {},
   "outputs": [
    {
     "name": "stderr",
     "output_type": "stream",
     "text": [
      "/var/folders/5v/ngr5t86d7t7flrv7l2wlwy4r0000gn/T/ipykernel_33821/937220725.py:1: DtypeWarning: Columns (89) have mixed types. Specify dtype option on import or set low_memory=False.\n",
      "  df2022 = pd.read_csv('data/2022/raw.csv')\n"
     ]
    },
    {
     "data": {
      "text/html": [
       "<div>\n",
       "<style scoped>\n",
       "    .dataframe tbody tr th:only-of-type {\n",
       "        vertical-align: middle;\n",
       "    }\n",
       "\n",
       "    .dataframe tbody tr th {\n",
       "        vertical-align: top;\n",
       "    }\n",
       "\n",
       "    .dataframe thead th {\n",
       "        text-align: right;\n",
       "    }\n",
       "</style>\n",
       "<table border=\"1\" class=\"dataframe\">\n",
       "  <thead>\n",
       "    <tr style=\"text-align: right;\">\n",
       "      <th></th>\n",
       "      <th>CASE_NUMBER</th>\n",
       "      <th>CASE_STATUS</th>\n",
       "      <th>RECEIVED_DATE</th>\n",
       "      <th>DECISION_DATE</th>\n",
       "      <th>ORIGINAL_CERT_DATE</th>\n",
       "      <th>VISA_CLASS</th>\n",
       "      <th>JOB_TITLE</th>\n",
       "      <th>SOC_CODE</th>\n",
       "      <th>SOC_TITLE</th>\n",
       "      <th>FULL_TIME_POSITION</th>\n",
       "      <th>...</th>\n",
       "      <th>WILLFUL_VIOLATOR</th>\n",
       "      <th>SUPPORT_H1B</th>\n",
       "      <th>STATUTORY_BASIS</th>\n",
       "      <th>APPENDIX_A_ATTACHED</th>\n",
       "      <th>PUBLIC_DISCLOSURE</th>\n",
       "      <th>PREPARER_LAST_NAME</th>\n",
       "      <th>PREPARER_FIRST_NAME</th>\n",
       "      <th>PREPARER_MIDDLE_INITIAL</th>\n",
       "      <th>PREPARER_BUSINESS_NAME</th>\n",
       "      <th>PREPARER_EMAIL</th>\n",
       "    </tr>\n",
       "  </thead>\n",
       "  <tbody>\n",
       "    <tr>\n",
       "      <th>0</th>\n",
       "      <td>I-200-21270-606997</td>\n",
       "      <td>Certified</td>\n",
       "      <td>2021-09-26</td>\n",
       "      <td>2021-10-01</td>\n",
       "      <td>NaN</td>\n",
       "      <td>H-1B</td>\n",
       "      <td>APPLICATIONS SUPPORT ANALYST/ADMINISTRATOR</td>\n",
       "      <td>15-1132.00</td>\n",
       "      <td>Software Developers, Applications</td>\n",
       "      <td>Y</td>\n",
       "      <td>...</td>\n",
       "      <td>No</td>\n",
       "      <td>NaN</td>\n",
       "      <td>NaN</td>\n",
       "      <td>NaN</td>\n",
       "      <td>Disclose Business</td>\n",
       "      <td>NaN</td>\n",
       "      <td>NaN</td>\n",
       "      <td>NaN</td>\n",
       "      <td>NaN</td>\n",
       "      <td>NaN</td>\n",
       "    </tr>\n",
       "    <tr>\n",
       "      <th>1</th>\n",
       "      <td>I-200-21270-606867</td>\n",
       "      <td>Certified</td>\n",
       "      <td>2021-09-26</td>\n",
       "      <td>2021-10-01</td>\n",
       "      <td>NaN</td>\n",
       "      <td>H-1B</td>\n",
       "      <td>Designer</td>\n",
       "      <td>17-3013.00</td>\n",
       "      <td>Mechanical Drafters</td>\n",
       "      <td>Y</td>\n",
       "      <td>...</td>\n",
       "      <td>No</td>\n",
       "      <td>NaN</td>\n",
       "      <td>NaN</td>\n",
       "      <td>NaN</td>\n",
       "      <td>Disclose Business and Employment</td>\n",
       "      <td>Stacey</td>\n",
       "      <td>Francyne</td>\n",
       "      <td>NaN</td>\n",
       "      <td>Stacey Law Practice</td>\n",
       "      <td>francyne@staceylawpractice.com</td>\n",
       "    </tr>\n",
       "    <tr>\n",
       "      <th>2</th>\n",
       "      <td>I-200-21270-606846</td>\n",
       "      <td>Certified</td>\n",
       "      <td>2021-09-26</td>\n",
       "      <td>2021-10-01</td>\n",
       "      <td>NaN</td>\n",
       "      <td>H-1B</td>\n",
       "      <td>Data Analyst</td>\n",
       "      <td>15-2031.00</td>\n",
       "      <td>Operations Research Analysts</td>\n",
       "      <td>Y</td>\n",
       "      <td>...</td>\n",
       "      <td>No</td>\n",
       "      <td>NaN</td>\n",
       "      <td>NaN</td>\n",
       "      <td>NaN</td>\n",
       "      <td>Disclose Business</td>\n",
       "      <td>NaN</td>\n",
       "      <td>NaN</td>\n",
       "      <td>NaN</td>\n",
       "      <td>NaN</td>\n",
       "      <td>NaN</td>\n",
       "    </tr>\n",
       "    <tr>\n",
       "      <th>3</th>\n",
       "      <td>I-200-21270-606842</td>\n",
       "      <td>Certified</td>\n",
       "      <td>2021-09-26</td>\n",
       "      <td>2021-10-01</td>\n",
       "      <td>NaN</td>\n",
       "      <td>H-1B</td>\n",
       "      <td>Pharmaceutical Chemist</td>\n",
       "      <td>19-2031.00</td>\n",
       "      <td>Chemists</td>\n",
       "      <td>Y</td>\n",
       "      <td>...</td>\n",
       "      <td>No</td>\n",
       "      <td>NaN</td>\n",
       "      <td>NaN</td>\n",
       "      <td>NaN</td>\n",
       "      <td>Disclose Business</td>\n",
       "      <td>JONNALAGADDA</td>\n",
       "      <td>SRINIVASA</td>\n",
       "      <td>R</td>\n",
       "      <td>S. R. JONNALAGADDA, P.C.</td>\n",
       "      <td>Lawassociates@att.net</td>\n",
       "    </tr>\n",
       "    <tr>\n",
       "      <th>4</th>\n",
       "      <td>I-200-21270-606941</td>\n",
       "      <td>Certified</td>\n",
       "      <td>2021-09-26</td>\n",
       "      <td>2021-10-01</td>\n",
       "      <td>NaN</td>\n",
       "      <td>H-1B</td>\n",
       "      <td>Senior Systems Analyst JC60</td>\n",
       "      <td>15-1121.00</td>\n",
       "      <td>Computer Systems Analysts</td>\n",
       "      <td>Y</td>\n",
       "      <td>...</td>\n",
       "      <td>No</td>\n",
       "      <td>Yes</td>\n",
       "      <td>$60,000 or higher annual wage</td>\n",
       "      <td>NaN</td>\n",
       "      <td>Disclose Business</td>\n",
       "      <td>NaN</td>\n",
       "      <td>NaN</td>\n",
       "      <td>NaN</td>\n",
       "      <td>NaN</td>\n",
       "      <td>NaN</td>\n",
       "    </tr>\n",
       "  </tbody>\n",
       "</table>\n",
       "<p>5 rows × 96 columns</p>\n",
       "</div>"
      ],
      "text/plain": [
       "          CASE_NUMBER CASE_STATUS RECEIVED_DATE DECISION_DATE  \\\n",
       "0  I-200-21270-606997   Certified    2021-09-26    2021-10-01   \n",
       "1  I-200-21270-606867   Certified    2021-09-26    2021-10-01   \n",
       "2  I-200-21270-606846   Certified    2021-09-26    2021-10-01   \n",
       "3  I-200-21270-606842   Certified    2021-09-26    2021-10-01   \n",
       "4  I-200-21270-606941   Certified    2021-09-26    2021-10-01   \n",
       "\n",
       "  ORIGINAL_CERT_DATE VISA_CLASS                                   JOB_TITLE  \\\n",
       "0                NaN       H-1B  APPLICATIONS SUPPORT ANALYST/ADMINISTRATOR   \n",
       "1                NaN       H-1B                                    Designer   \n",
       "2                NaN       H-1B                                Data Analyst   \n",
       "3                NaN       H-1B                      Pharmaceutical Chemist   \n",
       "4                NaN       H-1B                 Senior Systems Analyst JC60   \n",
       "\n",
       "     SOC_CODE                          SOC_TITLE FULL_TIME_POSITION  ...  \\\n",
       "0  15-1132.00  Software Developers, Applications                  Y  ...   \n",
       "1  17-3013.00                Mechanical Drafters                  Y  ...   \n",
       "2  15-2031.00       Operations Research Analysts                  Y  ...   \n",
       "3  19-2031.00                           Chemists                  Y  ...   \n",
       "4  15-1121.00          Computer Systems Analysts                  Y  ...   \n",
       "\n",
       "  WILLFUL_VIOLATOR SUPPORT_H1B                STATUTORY_BASIS  \\\n",
       "0               No         NaN                            NaN   \n",
       "1               No         NaN                            NaN   \n",
       "2               No         NaN                            NaN   \n",
       "3               No         NaN                            NaN   \n",
       "4               No         Yes  $60,000 or higher annual wage   \n",
       "\n",
       "   APPENDIX_A_ATTACHED                 PUBLIC_DISCLOSURE  PREPARER_LAST_NAME  \\\n",
       "0                  NaN                 Disclose Business                 NaN   \n",
       "1                  NaN  Disclose Business and Employment              Stacey   \n",
       "2                  NaN                 Disclose Business                 NaN   \n",
       "3                  NaN                 Disclose Business        JONNALAGADDA   \n",
       "4                  NaN                 Disclose Business                 NaN   \n",
       "\n",
       "   PREPARER_FIRST_NAME  PREPARER_MIDDLE_INITIAL    PREPARER_BUSINESS_NAME  \\\n",
       "0                  NaN                      NaN                       NaN   \n",
       "1             Francyne                      NaN       Stacey Law Practice   \n",
       "2                  NaN                      NaN                       NaN   \n",
       "3            SRINIVASA                        R  S. R. JONNALAGADDA, P.C.   \n",
       "4                  NaN                      NaN                       NaN   \n",
       "\n",
       "                   PREPARER_EMAIL  \n",
       "0                             NaN  \n",
       "1  francyne@staceylawpractice.com  \n",
       "2                             NaN  \n",
       "3           Lawassociates@att.net  \n",
       "4                             NaN  \n",
       "\n",
       "[5 rows x 96 columns]"
      ]
     },
     "execution_count": 3,
     "metadata": {},
     "output_type": "execute_result"
    }
   ],
   "source": [
    "df2022 = pd.read_csv('data/2022/raw.csv')\n",
    "df2022.head()"
   ]
  },
  {
   "cell_type": "code",
   "execution_count": 4,
   "metadata": {},
   "outputs": [
    {
     "name": "stdout",
     "output_type": "stream",
     "text": [
      "<class 'pandas.core.frame.DataFrame'>\n",
      "RangeIndex: 626084 entries, 0 to 626083\n",
      "Data columns (total 96 columns):\n",
      " #   Column                          Non-Null Count   Dtype  \n",
      "---  ------                          --------------   -----  \n",
      " 0   CASE_NUMBER                     626084 non-null  object \n",
      " 1   CASE_STATUS                     626084 non-null  object \n",
      " 2   RECEIVED_DATE                   626084 non-null  object \n",
      " 3   DECISION_DATE                   626084 non-null  object \n",
      " 4   ORIGINAL_CERT_DATE              35336 non-null   object \n",
      " 5   VISA_CLASS                      626084 non-null  object \n",
      " 6   JOB_TITLE                       626084 non-null  object \n",
      " 7   SOC_CODE                        626084 non-null  object \n",
      " 8   SOC_TITLE                       626084 non-null  object \n",
      " 9   FULL_TIME_POSITION              626084 non-null  object \n",
      " 10  BEGIN_DATE                      626084 non-null  object \n",
      " 11  END_DATE                        626084 non-null  object \n",
      " 12  TOTAL_WORKER_POSITIONS          626084 non-null  int64  \n",
      " 13  NEW_EMPLOYMENT                  626084 non-null  int64  \n",
      " 14  CONTINUED_EMPLOYMENT            626084 non-null  int64  \n",
      " 15  CHANGE_PREVIOUS_EMPLOYMENT      626084 non-null  int64  \n",
      " 16  NEW_CONCURRENT_EMPLOYMENT       626084 non-null  int64  \n",
      " 17  CHANGE_EMPLOYER                 626084 non-null  int64  \n",
      " 18  AMENDED_PETITION                626084 non-null  int64  \n",
      " 19  EMPLOYER_NAME                   626084 non-null  object \n",
      " 20  TRADE_NAME_DBA                  58174 non-null   object \n",
      " 21  EMPLOYER_ADDRESS1               626084 non-null  object \n",
      " 22  EMPLOYER_ADDRESS2               284917 non-null  object \n",
      " 23  EMPLOYER_CITY                   626084 non-null  object \n",
      " 24  EMPLOYER_STATE                  625986 non-null  object \n",
      " 25  EMPLOYER_POSTAL_CODE            626084 non-null  object \n",
      " 26  EMPLOYER_COUNTRY                626084 non-null  object \n",
      " 27  EMPLOYER_PROVINCE               38690 non-null   object \n",
      " 28  EMPLOYER_PHONE                  626084 non-null  int64  \n",
      " 29  EMPLOYER_PHONE_EXT              36052 non-null   float64\n",
      " 30  NAICS_CODE                      626084 non-null  int64  \n",
      " 31  EMPLOYER_POC_LAST_NAME          626083 non-null  object \n",
      " 32  EMPLOYER_POC_FIRST_NAME         626081 non-null  object \n",
      " 33  EMPLOYER_POC_MIDDLE_NAME        115920 non-null  object \n",
      " 34  EMPLOYER_POC_JOB_TITLE          626084 non-null  object \n",
      " 35  EMPLOYER_POC_ADDRESS1           626084 non-null  object \n",
      " 36  EMPLOYER_POC_ADDRESS2           293213 non-null  object \n",
      " 37  EMPLOYER_POC_CITY               626084 non-null  object \n",
      " 38  EMPLOYER_POC_STATE              625432 non-null  object \n",
      " 39  EMPLOYER_POC_POSTAL_CODE        626078 non-null  object \n",
      " 40  EMPLOYER_POC_COUNTRY            626084 non-null  object \n",
      " 41  EMPLOYER_POC_PROVINCE           758 non-null     object \n",
      " 42  EMPLOYER_POC_PHONE              626084 non-null  int64  \n",
      " 43  EMPLOYER_POC_PHONE_EXT          37918 non-null   float64\n",
      " 44  EMPLOYER_POC_EMAIL              612076 non-null  object \n",
      " 45  AGENT_REPRESENTING_EMPLOYER     626084 non-null  object \n",
      " 46  AGENT_ATTORNEY_LAST_NAME        462280 non-null  object \n",
      " 47  AGENT_ATTORNEY_FIRST_NAME       462278 non-null  object \n",
      " 48  AGENT_ATTORNEY_MIDDLE_NAME      234208 non-null  object \n",
      " 49  AGENT_ATTORNEY_ADDRESS1         462280 non-null  object \n",
      " 50  AGENT_ATTORNEY_ADDRESS2         363083 non-null  object \n",
      " 51  AGENT_ATTORNEY_CITY             462280 non-null  object \n",
      " 52  AGENT_ATTORNEY_STATE            444749 non-null  object \n",
      " 53  AGENT_ATTORNEY_POSTAL_CODE      462280 non-null  object \n",
      " 54  AGENT_ATTORNEY_COUNTRY          462280 non-null  object \n",
      " 55  AGENT_ATTORNEY_PROVINCE         44698 non-null   object \n",
      " 56  AGENT_ATTORNEY_PHONE            462280 non-null  float64\n",
      " 57  AGENT_ATTORNEY_PHONE_EXT        28473 non-null   float64\n",
      " 58  AGENT_ATTORNEY_EMAIL_ADDRESS    462231 non-null  object \n",
      " 59  LAWFIRM_NAME_BUSINESS_NAME      462280 non-null  object \n",
      " 60  STATE_OF_HIGHEST_COURT          461415 non-null  object \n",
      " 61  NAME_OF_HIGHEST_STATE_COURT     461411 non-null  object \n",
      " 62  WORKSITE_WORKERS                626084 non-null  int64  \n",
      " 63  SECONDARY_ENTITY                626084 non-null  object \n",
      " 64  SECONDARY_ENTITY_BUSINESS_NAME  133699 non-null  object \n",
      " 65  WORKSITE_ADDRESS1               626084 non-null  object \n",
      " 66  WORKSITE_ADDRESS2               186459 non-null  object \n",
      " 67  WORKSITE_CITY                   626073 non-null  object \n",
      " 68  WORKSITE_COUNTY                 626082 non-null  object \n",
      " 69  WORKSITE_STATE                  626084 non-null  object \n",
      " 70  WORKSITE_POSTAL_CODE            626084 non-null  object \n",
      " 71  WAGE_RATE_OF_PAY_FROM           626084 non-null  float64\n",
      " 72  WAGE_RATE_OF_PAY_TO             201966 non-null  float64\n",
      " 73  WAGE_UNIT_OF_PAY                626084 non-null  object \n",
      " 74  PREVAILING_WAGE                 626084 non-null  float64\n",
      " 75  PW_UNIT_OF_PAY                  626084 non-null  object \n",
      " 76  PW_TRACKING_NUMBER              1127 non-null    object \n",
      " 77  PW_WAGE_LEVEL                   597467 non-null  object \n",
      " 78  PW_OES_YEAR                     599772 non-null  object \n",
      " 79  PW_OTHER_SOURCE                 25185 non-null   object \n",
      " 80  PW_OTHER_YEAR                   25185 non-null   float64\n",
      " 81  PW_SURVEY_PUBLISHER             19283 non-null   object \n",
      " 82  PW_SURVEY_NAME                  19279 non-null   object \n",
      " 83  TOTAL_WORKSITE_LOCATIONS        626084 non-null  int64  \n",
      " 84  AGREE_TO_LC_STATEMENT           626084 non-null  object \n",
      " 85  H_1B_DEPENDENT                  611280 non-null  object \n",
      " 86  WILLFUL_VIOLATOR                611277 non-null  object \n",
      " 87  SUPPORT_H1B                     167700 non-null  object \n",
      " 88  STATUTORY_BASIS                 167013 non-null  object \n",
      " 89  APPENDIX_A_ATTACHED             521 non-null     object \n",
      " 90  PUBLIC_DISCLOSURE               625919 non-null  object \n",
      " 91  PREPARER_LAST_NAME              322409 non-null  object \n",
      " 92  PREPARER_FIRST_NAME             322601 non-null  object \n",
      " 93  PREPARER_MIDDLE_INITIAL         112264 non-null  object \n",
      " 94  PREPARER_BUSINESS_NAME          330106 non-null  object \n",
      " 95  PREPARER_EMAIL                  327079 non-null  object \n",
      "dtypes: float64(8), int64(12), object(76)\n",
      "memory usage: 458.6+ MB\n"
     ]
    }
   ],
   "source": [
    "df2022.info()"
   ]
  },
  {
   "cell_type": "markdown",
   "metadata": {},
   "source": [
    "Some of the columns are obviously useless"
   ]
  },
  {
   "cell_type": "code",
   "execution_count": 5,
   "metadata": {},
   "outputs": [],
   "source": [
    "columns = [\n",
    "    'JOB_TITLE',\n",
    "    'SOC_TITLE',\n",
    "    'FULL_TIME_POSITION',\n",
    "    'BEGIN_DATE',\n",
    "    'END_DATE',\n",
    "    'EMPLOYER_NAME',\n",
    "    'EMPLOYER_CITY',\n",
    "    'EMPLOYER_STATE',\n",
    "    'EMPLOYER_COUNTRY',\n",
    "    'WAGE_RATE_OF_PAY_FROM',\n",
    "    'WAGE_RATE_OF_PAY_TO',\n",
    "    'WAGE_UNIT_OF_PAY',\n",
    "    'PREVAILING_WAGE',\n",
    "    'PW_UNIT_OF_PAY',\n",
    "    'H_1B_DEPENDENT'\n",
    "]"
   ]
  },
  {
   "cell_type": "code",
   "execution_count": 6,
   "metadata": {},
   "outputs": [
    {
     "data": {
      "text/html": [
       "<div>\n",
       "<style scoped>\n",
       "    .dataframe tbody tr th:only-of-type {\n",
       "        vertical-align: middle;\n",
       "    }\n",
       "\n",
       "    .dataframe tbody tr th {\n",
       "        vertical-align: top;\n",
       "    }\n",
       "\n",
       "    .dataframe thead th {\n",
       "        text-align: right;\n",
       "    }\n",
       "</style>\n",
       "<table border=\"1\" class=\"dataframe\">\n",
       "  <thead>\n",
       "    <tr style=\"text-align: right;\">\n",
       "      <th></th>\n",
       "      <th>JOB_TITLE</th>\n",
       "      <th>SOC_TITLE</th>\n",
       "      <th>FULL_TIME_POSITION</th>\n",
       "      <th>BEGIN_DATE</th>\n",
       "      <th>END_DATE</th>\n",
       "      <th>EMPLOYER_NAME</th>\n",
       "      <th>EMPLOYER_CITY</th>\n",
       "      <th>EMPLOYER_STATE</th>\n",
       "      <th>EMPLOYER_COUNTRY</th>\n",
       "      <th>WAGE_RATE_OF_PAY_FROM</th>\n",
       "      <th>WAGE_RATE_OF_PAY_TO</th>\n",
       "      <th>WAGE_UNIT_OF_PAY</th>\n",
       "      <th>PREVAILING_WAGE</th>\n",
       "      <th>PW_UNIT_OF_PAY</th>\n",
       "      <th>H_1B_DEPENDENT</th>\n",
       "    </tr>\n",
       "  </thead>\n",
       "  <tbody>\n",
       "    <tr>\n",
       "      <th>0</th>\n",
       "      <td>APPLICATIONS SUPPORT ANALYST/ADMINISTRATOR</td>\n",
       "      <td>Software Developers, Applications</td>\n",
       "      <td>Y</td>\n",
       "      <td>2021-10-01</td>\n",
       "      <td>2024-09-30</td>\n",
       "      <td>SUEZ WATER MANAGEMENT &amp; SERVICES INC.</td>\n",
       "      <td>Paramus</td>\n",
       "      <td>NJ</td>\n",
       "      <td>UNITED STATES OF AMERICA</td>\n",
       "      <td>92000.0</td>\n",
       "      <td>NaN</td>\n",
       "      <td>Year</td>\n",
       "      <td>87485.0</td>\n",
       "      <td>Year</td>\n",
       "      <td>No</td>\n",
       "    </tr>\n",
       "    <tr>\n",
       "      <th>1</th>\n",
       "      <td>Designer</td>\n",
       "      <td>Mechanical Drafters</td>\n",
       "      <td>Y</td>\n",
       "      <td>2021-10-11</td>\n",
       "      <td>2024-10-10</td>\n",
       "      <td>Sensors, Inc</td>\n",
       "      <td>Saline</td>\n",
       "      <td>MI</td>\n",
       "      <td>UNITED STATES OF AMERICA</td>\n",
       "      <td>56181.0</td>\n",
       "      <td>61000.0</td>\n",
       "      <td>Year</td>\n",
       "      <td>56181.0</td>\n",
       "      <td>Year</td>\n",
       "      <td>No</td>\n",
       "    </tr>\n",
       "    <tr>\n",
       "      <th>2</th>\n",
       "      <td>Data Analyst</td>\n",
       "      <td>Operations Research Analysts</td>\n",
       "      <td>Y</td>\n",
       "      <td>2021-10-01</td>\n",
       "      <td>2024-09-30</td>\n",
       "      <td>HSP Group, Inc.</td>\n",
       "      <td>Bonita Springs</td>\n",
       "      <td>FL</td>\n",
       "      <td>UNITED STATES OF AMERICA</td>\n",
       "      <td>60000.0</td>\n",
       "      <td>NaN</td>\n",
       "      <td>Year</td>\n",
       "      <td>59238.0</td>\n",
       "      <td>Year</td>\n",
       "      <td>No</td>\n",
       "    </tr>\n",
       "    <tr>\n",
       "      <th>3</th>\n",
       "      <td>Pharmaceutical Chemist</td>\n",
       "      <td>Chemists</td>\n",
       "      <td>Y</td>\n",
       "      <td>2021-10-01</td>\n",
       "      <td>2024-09-30</td>\n",
       "      <td>ANIP Acquisitions, Inc.</td>\n",
       "      <td>Baudette</td>\n",
       "      <td>MN</td>\n",
       "      <td>UNITED STATES OF AMERICA</td>\n",
       "      <td>56160.0</td>\n",
       "      <td>NaN</td>\n",
       "      <td>Year</td>\n",
       "      <td>53851.0</td>\n",
       "      <td>Year</td>\n",
       "      <td>No</td>\n",
       "    </tr>\n",
       "    <tr>\n",
       "      <th>4</th>\n",
       "      <td>Senior Systems Analyst JC60</td>\n",
       "      <td>Computer Systems Analysts</td>\n",
       "      <td>Y</td>\n",
       "      <td>2021-10-15</td>\n",
       "      <td>2024-10-14</td>\n",
       "      <td>COGNIZANT TECHNOLOGY SOLUTIONS US CORP</td>\n",
       "      <td>COLLEGE STATION</td>\n",
       "      <td>TX</td>\n",
       "      <td>UNITED STATES OF AMERICA</td>\n",
       "      <td>70325.0</td>\n",
       "      <td>NaN</td>\n",
       "      <td>Year</td>\n",
       "      <td>70325.0</td>\n",
       "      <td>Year</td>\n",
       "      <td>Yes</td>\n",
       "    </tr>\n",
       "  </tbody>\n",
       "</table>\n",
       "</div>"
      ],
      "text/plain": [
       "                                    JOB_TITLE  \\\n",
       "0  APPLICATIONS SUPPORT ANALYST/ADMINISTRATOR   \n",
       "1                                    Designer   \n",
       "2                                Data Analyst   \n",
       "3                      Pharmaceutical Chemist   \n",
       "4                 Senior Systems Analyst JC60   \n",
       "\n",
       "                           SOC_TITLE FULL_TIME_POSITION  BEGIN_DATE  \\\n",
       "0  Software Developers, Applications                  Y  2021-10-01   \n",
       "1                Mechanical Drafters                  Y  2021-10-11   \n",
       "2       Operations Research Analysts                  Y  2021-10-01   \n",
       "3                           Chemists                  Y  2021-10-01   \n",
       "4          Computer Systems Analysts                  Y  2021-10-15   \n",
       "\n",
       "     END_DATE                           EMPLOYER_NAME    EMPLOYER_CITY  \\\n",
       "0  2024-09-30   SUEZ WATER MANAGEMENT & SERVICES INC.          Paramus   \n",
       "1  2024-10-10                            Sensors, Inc           Saline   \n",
       "2  2024-09-30                        HSP Group, Inc.    Bonita Springs   \n",
       "3  2024-09-30                 ANIP Acquisitions, Inc.         Baudette   \n",
       "4  2024-10-14  COGNIZANT TECHNOLOGY SOLUTIONS US CORP  COLLEGE STATION   \n",
       "\n",
       "  EMPLOYER_STATE          EMPLOYER_COUNTRY  WAGE_RATE_OF_PAY_FROM  \\\n",
       "0             NJ  UNITED STATES OF AMERICA                92000.0   \n",
       "1             MI  UNITED STATES OF AMERICA                56181.0   \n",
       "2             FL  UNITED STATES OF AMERICA                60000.0   \n",
       "3             MN  UNITED STATES OF AMERICA                56160.0   \n",
       "4             TX  UNITED STATES OF AMERICA                70325.0   \n",
       "\n",
       "   WAGE_RATE_OF_PAY_TO WAGE_UNIT_OF_PAY  PREVAILING_WAGE PW_UNIT_OF_PAY  \\\n",
       "0                  NaN             Year          87485.0           Year   \n",
       "1              61000.0             Year          56181.0           Year   \n",
       "2                  NaN             Year          59238.0           Year   \n",
       "3                  NaN             Year          53851.0           Year   \n",
       "4                  NaN             Year          70325.0           Year   \n",
       "\n",
       "  H_1B_DEPENDENT  \n",
       "0             No  \n",
       "1             No  \n",
       "2             No  \n",
       "3             No  \n",
       "4            Yes  "
      ]
     },
     "execution_count": 6,
     "metadata": {},
     "output_type": "execute_result"
    }
   ],
   "source": [
    "df2022 = df2022[columns]\n",
    "df2022.head(5)"
   ]
  },
  {
   "cell_type": "markdown",
   "metadata": {},
   "source": [
    "We also only want jobs in the US"
   ]
  },
  {
   "cell_type": "code",
   "execution_count": 7,
   "metadata": {},
   "outputs": [
    {
     "data": {
      "text/html": [
       "<div>\n",
       "<style scoped>\n",
       "    .dataframe tbody tr th:only-of-type {\n",
       "        vertical-align: middle;\n",
       "    }\n",
       "\n",
       "    .dataframe tbody tr th {\n",
       "        vertical-align: top;\n",
       "    }\n",
       "\n",
       "    .dataframe thead th {\n",
       "        text-align: right;\n",
       "    }\n",
       "</style>\n",
       "<table border=\"1\" class=\"dataframe\">\n",
       "  <thead>\n",
       "    <tr style=\"text-align: right;\">\n",
       "      <th></th>\n",
       "      <th>JOB_TITLE</th>\n",
       "      <th>SOC_TITLE</th>\n",
       "      <th>FULL_TIME_POSITION</th>\n",
       "      <th>BEGIN_DATE</th>\n",
       "      <th>END_DATE</th>\n",
       "      <th>EMPLOYER_NAME</th>\n",
       "      <th>EMPLOYER_CITY</th>\n",
       "      <th>EMPLOYER_STATE</th>\n",
       "      <th>EMPLOYER_COUNTRY</th>\n",
       "      <th>WAGE_RATE_OF_PAY_FROM</th>\n",
       "      <th>WAGE_RATE_OF_PAY_TO</th>\n",
       "      <th>WAGE_UNIT_OF_PAY</th>\n",
       "      <th>PREVAILING_WAGE</th>\n",
       "      <th>PW_UNIT_OF_PAY</th>\n",
       "      <th>H_1B_DEPENDENT</th>\n",
       "    </tr>\n",
       "  </thead>\n",
       "  <tbody>\n",
       "    <tr>\n",
       "      <th>0</th>\n",
       "      <td>APPLICATIONS SUPPORT ANALYST/ADMINISTRATOR</td>\n",
       "      <td>Software Developers, Applications</td>\n",
       "      <td>Y</td>\n",
       "      <td>2021-10-01</td>\n",
       "      <td>2024-09-30</td>\n",
       "      <td>SUEZ WATER MANAGEMENT &amp; SERVICES INC.</td>\n",
       "      <td>Paramus</td>\n",
       "      <td>NJ</td>\n",
       "      <td>UNITED STATES OF AMERICA</td>\n",
       "      <td>92000.0</td>\n",
       "      <td>NaN</td>\n",
       "      <td>Year</td>\n",
       "      <td>87485.0</td>\n",
       "      <td>Year</td>\n",
       "      <td>No</td>\n",
       "    </tr>\n",
       "    <tr>\n",
       "      <th>1</th>\n",
       "      <td>Designer</td>\n",
       "      <td>Mechanical Drafters</td>\n",
       "      <td>Y</td>\n",
       "      <td>2021-10-11</td>\n",
       "      <td>2024-10-10</td>\n",
       "      <td>Sensors, Inc</td>\n",
       "      <td>Saline</td>\n",
       "      <td>MI</td>\n",
       "      <td>UNITED STATES OF AMERICA</td>\n",
       "      <td>56181.0</td>\n",
       "      <td>61000.0</td>\n",
       "      <td>Year</td>\n",
       "      <td>56181.0</td>\n",
       "      <td>Year</td>\n",
       "      <td>No</td>\n",
       "    </tr>\n",
       "    <tr>\n",
       "      <th>2</th>\n",
       "      <td>Data Analyst</td>\n",
       "      <td>Operations Research Analysts</td>\n",
       "      <td>Y</td>\n",
       "      <td>2021-10-01</td>\n",
       "      <td>2024-09-30</td>\n",
       "      <td>HSP Group, Inc.</td>\n",
       "      <td>Bonita Springs</td>\n",
       "      <td>FL</td>\n",
       "      <td>UNITED STATES OF AMERICA</td>\n",
       "      <td>60000.0</td>\n",
       "      <td>NaN</td>\n",
       "      <td>Year</td>\n",
       "      <td>59238.0</td>\n",
       "      <td>Year</td>\n",
       "      <td>No</td>\n",
       "    </tr>\n",
       "    <tr>\n",
       "      <th>3</th>\n",
       "      <td>Pharmaceutical Chemist</td>\n",
       "      <td>Chemists</td>\n",
       "      <td>Y</td>\n",
       "      <td>2021-10-01</td>\n",
       "      <td>2024-09-30</td>\n",
       "      <td>ANIP Acquisitions, Inc.</td>\n",
       "      <td>Baudette</td>\n",
       "      <td>MN</td>\n",
       "      <td>UNITED STATES OF AMERICA</td>\n",
       "      <td>56160.0</td>\n",
       "      <td>NaN</td>\n",
       "      <td>Year</td>\n",
       "      <td>53851.0</td>\n",
       "      <td>Year</td>\n",
       "      <td>No</td>\n",
       "    </tr>\n",
       "    <tr>\n",
       "      <th>4</th>\n",
       "      <td>Senior Systems Analyst JC60</td>\n",
       "      <td>Computer Systems Analysts</td>\n",
       "      <td>Y</td>\n",
       "      <td>2021-10-15</td>\n",
       "      <td>2024-10-14</td>\n",
       "      <td>COGNIZANT TECHNOLOGY SOLUTIONS US CORP</td>\n",
       "      <td>COLLEGE STATION</td>\n",
       "      <td>TX</td>\n",
       "      <td>UNITED STATES OF AMERICA</td>\n",
       "      <td>70325.0</td>\n",
       "      <td>NaN</td>\n",
       "      <td>Year</td>\n",
       "      <td>70325.0</td>\n",
       "      <td>Year</td>\n",
       "      <td>Yes</td>\n",
       "    </tr>\n",
       "  </tbody>\n",
       "</table>\n",
       "</div>"
      ],
      "text/plain": [
       "                                    JOB_TITLE  \\\n",
       "0  APPLICATIONS SUPPORT ANALYST/ADMINISTRATOR   \n",
       "1                                    Designer   \n",
       "2                                Data Analyst   \n",
       "3                      Pharmaceutical Chemist   \n",
       "4                 Senior Systems Analyst JC60   \n",
       "\n",
       "                           SOC_TITLE FULL_TIME_POSITION  BEGIN_DATE  \\\n",
       "0  Software Developers, Applications                  Y  2021-10-01   \n",
       "1                Mechanical Drafters                  Y  2021-10-11   \n",
       "2       Operations Research Analysts                  Y  2021-10-01   \n",
       "3                           Chemists                  Y  2021-10-01   \n",
       "4          Computer Systems Analysts                  Y  2021-10-15   \n",
       "\n",
       "     END_DATE                           EMPLOYER_NAME    EMPLOYER_CITY  \\\n",
       "0  2024-09-30   SUEZ WATER MANAGEMENT & SERVICES INC.          Paramus   \n",
       "1  2024-10-10                            Sensors, Inc           Saline   \n",
       "2  2024-09-30                        HSP Group, Inc.    Bonita Springs   \n",
       "3  2024-09-30                 ANIP Acquisitions, Inc.         Baudette   \n",
       "4  2024-10-14  COGNIZANT TECHNOLOGY SOLUTIONS US CORP  COLLEGE STATION   \n",
       "\n",
       "  EMPLOYER_STATE          EMPLOYER_COUNTRY  WAGE_RATE_OF_PAY_FROM  \\\n",
       "0             NJ  UNITED STATES OF AMERICA                92000.0   \n",
       "1             MI  UNITED STATES OF AMERICA                56181.0   \n",
       "2             FL  UNITED STATES OF AMERICA                60000.0   \n",
       "3             MN  UNITED STATES OF AMERICA                56160.0   \n",
       "4             TX  UNITED STATES OF AMERICA                70325.0   \n",
       "\n",
       "   WAGE_RATE_OF_PAY_TO WAGE_UNIT_OF_PAY  PREVAILING_WAGE PW_UNIT_OF_PAY  \\\n",
       "0                  NaN             Year          87485.0           Year   \n",
       "1              61000.0             Year          56181.0           Year   \n",
       "2                  NaN             Year          59238.0           Year   \n",
       "3                  NaN             Year          53851.0           Year   \n",
       "4                  NaN             Year          70325.0           Year   \n",
       "\n",
       "  H_1B_DEPENDENT  \n",
       "0             No  \n",
       "1             No  \n",
       "2             No  \n",
       "3             No  \n",
       "4            Yes  "
      ]
     },
     "execution_count": 7,
     "metadata": {},
     "output_type": "execute_result"
    }
   ],
   "source": [
    "df2022 = df2022[df2022['EMPLOYER_COUNTRY'] == 'UNITED STATES OF AMERICA']\n",
    "df2022.head(5)"
   ]
  },
  {
   "cell_type": "code",
   "execution_count": 8,
   "metadata": {},
   "outputs": [
    {
     "name": "stdout",
     "output_type": "stream",
     "text": [
      "<class 'pandas.core.frame.DataFrame'>\n",
      "Int64Index: 625986 entries, 0 to 626083\n",
      "Data columns (total 15 columns):\n",
      " #   Column                 Non-Null Count   Dtype  \n",
      "---  ------                 --------------   -----  \n",
      " 0   JOB_TITLE              625986 non-null  object \n",
      " 1   SOC_TITLE              625986 non-null  object \n",
      " 2   FULL_TIME_POSITION     625986 non-null  object \n",
      " 3   BEGIN_DATE             625986 non-null  object \n",
      " 4   END_DATE               625986 non-null  object \n",
      " 5   EMPLOYER_NAME          625986 non-null  object \n",
      " 6   EMPLOYER_CITY          625986 non-null  object \n",
      " 7   EMPLOYER_STATE         625986 non-null  object \n",
      " 8   EMPLOYER_COUNTRY       625986 non-null  object \n",
      " 9   WAGE_RATE_OF_PAY_FROM  625986 non-null  float64\n",
      " 10  WAGE_RATE_OF_PAY_TO    201930 non-null  float64\n",
      " 11  WAGE_UNIT_OF_PAY       625986 non-null  object \n",
      " 12  PREVAILING_WAGE        625986 non-null  float64\n",
      " 13  PW_UNIT_OF_PAY         625986 non-null  object \n",
      " 14  H_1B_DEPENDENT         611189 non-null  object \n",
      "dtypes: float64(3), object(12)\n",
      "memory usage: 76.4+ MB\n"
     ]
    }
   ],
   "source": [
    "df2022.info()"
   ]
  },
  {
   "cell_type": "code",
   "execution_count": 9,
   "metadata": {},
   "outputs": [
    {
     "data": {
      "text/plain": [
       "count     625986\n",
       "unique         2\n",
       "top            Y\n",
       "freq      617691\n",
       "Name: FULL_TIME_POSITION, dtype: object"
      ]
     },
     "execution_count": 9,
     "metadata": {},
     "output_type": "execute_result"
    }
   ],
   "source": [
    "df2022['FULL_TIME_POSITION'].describe()"
   ]
  },
  {
   "cell_type": "markdown",
   "metadata": {},
   "source": [
    "* END_DATE is three years after BEGIN_DATE. \n",
    "\n",
    "* WAGE_RATE_OF_PAY_TO has many NaN value.\n",
    "\n",
    "* We do not need EMPLOYER_COUNTRY anymore.\n",
    "\n",
    "* For H1-B, full-time position is mostly needed.\n",
    "\n",
    "* So, we drop these columns."
   ]
  },
  {
   "cell_type": "code",
   "execution_count": 10,
   "metadata": {},
   "outputs": [
    {
     "data": {
      "text/html": [
       "<div>\n",
       "<style scoped>\n",
       "    .dataframe tbody tr th:only-of-type {\n",
       "        vertical-align: middle;\n",
       "    }\n",
       "\n",
       "    .dataframe tbody tr th {\n",
       "        vertical-align: top;\n",
       "    }\n",
       "\n",
       "    .dataframe thead th {\n",
       "        text-align: right;\n",
       "    }\n",
       "</style>\n",
       "<table border=\"1\" class=\"dataframe\">\n",
       "  <thead>\n",
       "    <tr style=\"text-align: right;\">\n",
       "      <th></th>\n",
       "      <th>JOB_TITLE</th>\n",
       "      <th>SOC_TITLE</th>\n",
       "      <th>BEGIN_DATE</th>\n",
       "      <th>EMPLOYER_NAME</th>\n",
       "      <th>EMPLOYER_CITY</th>\n",
       "      <th>EMPLOYER_STATE</th>\n",
       "      <th>WAGE_RATE_OF_PAY_FROM</th>\n",
       "      <th>WAGE_UNIT_OF_PAY</th>\n",
       "      <th>PREVAILING_WAGE</th>\n",
       "      <th>PW_UNIT_OF_PAY</th>\n",
       "      <th>H_1B_DEPENDENT</th>\n",
       "    </tr>\n",
       "  </thead>\n",
       "  <tbody>\n",
       "    <tr>\n",
       "      <th>0</th>\n",
       "      <td>APPLICATIONS SUPPORT ANALYST/ADMINISTRATOR</td>\n",
       "      <td>Software Developers, Applications</td>\n",
       "      <td>2021-10-01</td>\n",
       "      <td>SUEZ WATER MANAGEMENT &amp; SERVICES INC.</td>\n",
       "      <td>Paramus</td>\n",
       "      <td>NJ</td>\n",
       "      <td>92000.0</td>\n",
       "      <td>Year</td>\n",
       "      <td>87485.0</td>\n",
       "      <td>Year</td>\n",
       "      <td>No</td>\n",
       "    </tr>\n",
       "    <tr>\n",
       "      <th>1</th>\n",
       "      <td>Designer</td>\n",
       "      <td>Mechanical Drafters</td>\n",
       "      <td>2021-10-11</td>\n",
       "      <td>Sensors, Inc</td>\n",
       "      <td>Saline</td>\n",
       "      <td>MI</td>\n",
       "      <td>56181.0</td>\n",
       "      <td>Year</td>\n",
       "      <td>56181.0</td>\n",
       "      <td>Year</td>\n",
       "      <td>No</td>\n",
       "    </tr>\n",
       "    <tr>\n",
       "      <th>2</th>\n",
       "      <td>Data Analyst</td>\n",
       "      <td>Operations Research Analysts</td>\n",
       "      <td>2021-10-01</td>\n",
       "      <td>HSP Group, Inc.</td>\n",
       "      <td>Bonita Springs</td>\n",
       "      <td>FL</td>\n",
       "      <td>60000.0</td>\n",
       "      <td>Year</td>\n",
       "      <td>59238.0</td>\n",
       "      <td>Year</td>\n",
       "      <td>No</td>\n",
       "    </tr>\n",
       "    <tr>\n",
       "      <th>3</th>\n",
       "      <td>Pharmaceutical Chemist</td>\n",
       "      <td>Chemists</td>\n",
       "      <td>2021-10-01</td>\n",
       "      <td>ANIP Acquisitions, Inc.</td>\n",
       "      <td>Baudette</td>\n",
       "      <td>MN</td>\n",
       "      <td>56160.0</td>\n",
       "      <td>Year</td>\n",
       "      <td>53851.0</td>\n",
       "      <td>Year</td>\n",
       "      <td>No</td>\n",
       "    </tr>\n",
       "    <tr>\n",
       "      <th>4</th>\n",
       "      <td>Senior Systems Analyst JC60</td>\n",
       "      <td>Computer Systems Analysts</td>\n",
       "      <td>2021-10-15</td>\n",
       "      <td>COGNIZANT TECHNOLOGY SOLUTIONS US CORP</td>\n",
       "      <td>COLLEGE STATION</td>\n",
       "      <td>TX</td>\n",
       "      <td>70325.0</td>\n",
       "      <td>Year</td>\n",
       "      <td>70325.0</td>\n",
       "      <td>Year</td>\n",
       "      <td>Yes</td>\n",
       "    </tr>\n",
       "  </tbody>\n",
       "</table>\n",
       "</div>"
      ],
      "text/plain": [
       "                                    JOB_TITLE  \\\n",
       "0  APPLICATIONS SUPPORT ANALYST/ADMINISTRATOR   \n",
       "1                                    Designer   \n",
       "2                                Data Analyst   \n",
       "3                      Pharmaceutical Chemist   \n",
       "4                 Senior Systems Analyst JC60   \n",
       "\n",
       "                           SOC_TITLE  BEGIN_DATE  \\\n",
       "0  Software Developers, Applications  2021-10-01   \n",
       "1                Mechanical Drafters  2021-10-11   \n",
       "2       Operations Research Analysts  2021-10-01   \n",
       "3                           Chemists  2021-10-01   \n",
       "4          Computer Systems Analysts  2021-10-15   \n",
       "\n",
       "                            EMPLOYER_NAME    EMPLOYER_CITY EMPLOYER_STATE  \\\n",
       "0   SUEZ WATER MANAGEMENT & SERVICES INC.          Paramus             NJ   \n",
       "1                            Sensors, Inc           Saline             MI   \n",
       "2                        HSP Group, Inc.    Bonita Springs             FL   \n",
       "3                 ANIP Acquisitions, Inc.         Baudette             MN   \n",
       "4  COGNIZANT TECHNOLOGY SOLUTIONS US CORP  COLLEGE STATION             TX   \n",
       "\n",
       "   WAGE_RATE_OF_PAY_FROM WAGE_UNIT_OF_PAY  PREVAILING_WAGE PW_UNIT_OF_PAY  \\\n",
       "0                92000.0             Year          87485.0           Year   \n",
       "1                56181.0             Year          56181.0           Year   \n",
       "2                60000.0             Year          59238.0           Year   \n",
       "3                56160.0             Year          53851.0           Year   \n",
       "4                70325.0             Year          70325.0           Year   \n",
       "\n",
       "  H_1B_DEPENDENT  \n",
       "0             No  \n",
       "1             No  \n",
       "2             No  \n",
       "3             No  \n",
       "4            Yes  "
      ]
     },
     "execution_count": 10,
     "metadata": {},
     "output_type": "execute_result"
    }
   ],
   "source": [
    "df2022 = df2022.drop(labels=['END_DATE', 'WAGE_RATE_OF_PAY_TO', 'EMPLOYER_COUNTRY', 'FULL_TIME_POSITION'], axis=1)\n",
    "df2022.head(5)"
   ]
  },
  {
   "cell_type": "markdown",
   "metadata": {},
   "source": [
    "______"
   ]
  },
  {
   "cell_type": "markdown",
   "metadata": {},
   "source": [
    "#### Explore Data and Standarize Features"
   ]
  },
  {
   "cell_type": "markdown",
   "metadata": {},
   "source": [
    "##### Date to Year"
   ]
  },
  {
   "cell_type": "code",
   "execution_count": 11,
   "metadata": {},
   "outputs": [
    {
     "data": {
      "text/plain": [
       "count         625986\n",
       "unique          1251\n",
       "top       2022-10-01\n",
       "freq          100201\n",
       "Name: BEGIN_DATE, dtype: object"
      ]
     },
     "execution_count": 11,
     "metadata": {},
     "output_type": "execute_result"
    }
   ],
   "source": [
    "df2022['BEGIN_DATE'].describe()"
   ]
  },
  {
   "cell_type": "markdown",
   "metadata": {},
   "source": [
    "From consensus, salary among different days in one year should not differ from each other much.\n",
    "\n",
    "So we care mostly about which year it is."
   ]
  },
  {
   "cell_type": "code",
   "execution_count": 12,
   "metadata": {},
   "outputs": [
    {
     "data": {
      "text/plain": [
       "count     625986\n",
       "unique         5\n",
       "top         2022\n",
       "freq      513283\n",
       "Name: BEGIN_YEAR, dtype: object"
      ]
     },
     "execution_count": 12,
     "metadata": {},
     "output_type": "execute_result"
    }
   ],
   "source": [
    "df2022['BEGIN_YEAR'] = df2022['BEGIN_DATE'].astype('str').map(lambda s: s[:4])\n",
    "df2022['BEGIN_YEAR'].describe()"
   ]
  },
  {
   "cell_type": "code",
   "execution_count": 13,
   "metadata": {},
   "outputs": [],
   "source": [
    "df2022 = df2022.drop(labels=['BEGIN_DATE'], axis=1)"
   ]
  },
  {
   "cell_type": "markdown",
   "metadata": {},
   "source": [
    "##### Standarize Salary"
   ]
  },
  {
   "cell_type": "code",
   "execution_count": 14,
   "metadata": {},
   "outputs": [
    {
     "data": {
      "text/plain": [
       "count     625986\n",
       "unique         5\n",
       "top         Year\n",
       "freq      590810\n",
       "Name: WAGE_UNIT_OF_PAY, dtype: object"
      ]
     },
     "execution_count": 14,
     "metadata": {},
     "output_type": "execute_result"
    }
   ],
   "source": [
    "df2022['WAGE_UNIT_OF_PAY'].describe()"
   ]
  },
  {
   "cell_type": "code",
   "execution_count": 15,
   "metadata": {},
   "outputs": [
    {
     "data": {
      "text/plain": [
       "count     625986\n",
       "unique         5\n",
       "top         Year\n",
       "freq      591091\n",
       "Name: PW_UNIT_OF_PAY, dtype: object"
      ]
     },
     "execution_count": 15,
     "metadata": {},
     "output_type": "execute_result"
    }
   ],
   "source": [
    "df2022['PW_UNIT_OF_PAY'].describe()"
   ]
  },
  {
   "cell_type": "code",
   "execution_count": 16,
   "metadata": {},
   "outputs": [
    {
     "data": {
      "text/plain": [
       "array(['Year', 'Hour', 'Bi-Weekly', 'Week', 'Month'], dtype=object)"
      ]
     },
     "execution_count": 16,
     "metadata": {},
     "output_type": "execute_result"
    }
   ],
   "source": [
    "df2022['WAGE_UNIT_OF_PAY'].unique()"
   ]
  },
  {
   "cell_type": "markdown",
   "metadata": {},
   "source": [
    "* Different companies pay salary with different frequency. \n",
    "\n",
    "* Need to make them all in unit of Year.\n",
    "\n",
    "* Assuming everyone works **40 hours per week, 4 weeks per month, 12 months per year**"
   ]
  },
  {
   "cell_type": "code",
   "execution_count": 17,
   "metadata": {},
   "outputs": [],
   "source": [
    "for _, row in df2022.iterrows():\n",
    "    unit = row['WAGE_UNIT_OF_PAY']\n",
    "    wage = row['WAGE_RATE_OF_PAY_FROM']\n",
    "    if unit == 'Hour':\n",
    "        row['WAGE_RATE_OF_PAY_FROM'] = wage * 40 * 4 * 12\n",
    "    elif unit == 'Bi-Weekly':\n",
    "        row['WAGE_RATE_OF_PAY_FROM'] = wage * 2 * 12\n",
    "    elif unit == 'Week':\n",
    "        row['WAGE_RATE_OF_PAY_FROM'] = wage * 4 * 12\n",
    "    elif unit == 'Month':\n",
    "        row['WAGE_RATE_OF_PAY_FROM'] = wage * 12\n",
    "\n",
    "    pw_unit = row['PW_UNIT_OF_PAY']\n",
    "    pw = row['PREVAILING_WAGE']\n",
    "    if pw_unit == 'Hour':\n",
    "        row['PREVAILING_WAGE'] = pw * 40 * 4 * 12\n",
    "    elif pw_unit == 'Bi-Weekly':\n",
    "        row['PREVAILING_WAGE'] = pw * 2 * 12\n",
    "    elif pw_unit == 'Week':\n",
    "        row['PREVAILING_WAGE'] = pw * 4 * 12\n",
    "    elif pw_unit == 'Month':\n",
    "        row['PREVAILING_WAGE'] = pw * 12"
   ]
  },
  {
   "cell_type": "code",
   "execution_count": 18,
   "metadata": {},
   "outputs": [],
   "source": [
    "df2022['SALARY'] = df2022['WAGE_RATE_OF_PAY_FROM'].round()\n",
    "df2022['AVERAGE_SALARY'] = df2022['PREVAILING_WAGE'].round()\n",
    "df2022 = df2022.drop(labels=['WAGE_UNIT_OF_PAY', 'PW_UNIT_OF_PAY', 'WAGE_RATE_OF_PAY_FROM', 'PREVAILING_WAGE'], axis=1)"
   ]
  },
  {
   "cell_type": "code",
   "execution_count": 19,
   "metadata": {},
   "outputs": [
    {
     "data": {
      "text/html": [
       "<div>\n",
       "<style scoped>\n",
       "    .dataframe tbody tr th:only-of-type {\n",
       "        vertical-align: middle;\n",
       "    }\n",
       "\n",
       "    .dataframe tbody tr th {\n",
       "        vertical-align: top;\n",
       "    }\n",
       "\n",
       "    .dataframe thead th {\n",
       "        text-align: right;\n",
       "    }\n",
       "</style>\n",
       "<table border=\"1\" class=\"dataframe\">\n",
       "  <thead>\n",
       "    <tr style=\"text-align: right;\">\n",
       "      <th></th>\n",
       "      <th>SALARY</th>\n",
       "      <th>AVERAGE_SALARY</th>\n",
       "    </tr>\n",
       "  </thead>\n",
       "  <tbody>\n",
       "    <tr>\n",
       "      <th>0</th>\n",
       "      <td>92000.0</td>\n",
       "      <td>87485.0</td>\n",
       "    </tr>\n",
       "    <tr>\n",
       "      <th>1</th>\n",
       "      <td>56181.0</td>\n",
       "      <td>56181.0</td>\n",
       "    </tr>\n",
       "    <tr>\n",
       "      <th>2</th>\n",
       "      <td>60000.0</td>\n",
       "      <td>59238.0</td>\n",
       "    </tr>\n",
       "    <tr>\n",
       "      <th>3</th>\n",
       "      <td>56160.0</td>\n",
       "      <td>53851.0</td>\n",
       "    </tr>\n",
       "    <tr>\n",
       "      <th>4</th>\n",
       "      <td>70325.0</td>\n",
       "      <td>70325.0</td>\n",
       "    </tr>\n",
       "    <tr>\n",
       "      <th>5</th>\n",
       "      <td>90730.0</td>\n",
       "      <td>90730.0</td>\n",
       "    </tr>\n",
       "    <tr>\n",
       "      <th>6</th>\n",
       "      <td>130000.0</td>\n",
       "      <td>104291.0</td>\n",
       "    </tr>\n",
       "    <tr>\n",
       "      <th>7</th>\n",
       "      <td>90000.0</td>\n",
       "      <td>69888.0</td>\n",
       "    </tr>\n",
       "    <tr>\n",
       "      <th>8</th>\n",
       "      <td>98550.0</td>\n",
       "      <td>98550.0</td>\n",
       "    </tr>\n",
       "    <tr>\n",
       "      <th>9</th>\n",
       "      <td>106933.0</td>\n",
       "      <td>106933.0</td>\n",
       "    </tr>\n",
       "  </tbody>\n",
       "</table>\n",
       "</div>"
      ],
      "text/plain": [
       "     SALARY  AVERAGE_SALARY\n",
       "0   92000.0         87485.0\n",
       "1   56181.0         56181.0\n",
       "2   60000.0         59238.0\n",
       "3   56160.0         53851.0\n",
       "4   70325.0         70325.0\n",
       "5   90730.0         90730.0\n",
       "6  130000.0        104291.0\n",
       "7   90000.0         69888.0\n",
       "8   98550.0         98550.0\n",
       "9  106933.0        106933.0"
      ]
     },
     "execution_count": 19,
     "metadata": {},
     "output_type": "execute_result"
    }
   ],
   "source": [
    "df2022[['SALARY', 'AVERAGE_SALARY']].head(10)"
   ]
  },
  {
   "cell_type": "markdown",
   "metadata": {},
   "source": [
    "##### Standarize City Name and Employer Name"
   ]
  },
  {
   "cell_type": "code",
   "execution_count": 20,
   "metadata": {},
   "outputs": [
    {
     "data": {
      "text/html": [
       "<div>\n",
       "<style scoped>\n",
       "    .dataframe tbody tr th:only-of-type {\n",
       "        vertical-align: middle;\n",
       "    }\n",
       "\n",
       "    .dataframe tbody tr th {\n",
       "        vertical-align: top;\n",
       "    }\n",
       "\n",
       "    .dataframe thead th {\n",
       "        text-align: right;\n",
       "    }\n",
       "</style>\n",
       "<table border=\"1\" class=\"dataframe\">\n",
       "  <thead>\n",
       "    <tr style=\"text-align: right;\">\n",
       "      <th></th>\n",
       "      <th>JOB_TITLE</th>\n",
       "      <th>SOC_TITLE</th>\n",
       "      <th>EMPLOYER_NAME</th>\n",
       "      <th>EMPLOYER_CITY</th>\n",
       "      <th>EMPLOYER_STATE</th>\n",
       "      <th>H_1B_DEPENDENT</th>\n",
       "      <th>BEGIN_YEAR</th>\n",
       "      <th>SALARY</th>\n",
       "      <th>AVERAGE_SALARY</th>\n",
       "    </tr>\n",
       "  </thead>\n",
       "  <tbody>\n",
       "    <tr>\n",
       "      <th>0</th>\n",
       "      <td>APPLICATIONS SUPPORT ANALYST/ADMINISTRATOR</td>\n",
       "      <td>Software Developers, Applications</td>\n",
       "      <td>SUEZ WATER MANAGEMENT &amp; SERVICES INC.</td>\n",
       "      <td>Paramus</td>\n",
       "      <td>NJ</td>\n",
       "      <td>No</td>\n",
       "      <td>2021</td>\n",
       "      <td>92000.0</td>\n",
       "      <td>87485.0</td>\n",
       "    </tr>\n",
       "    <tr>\n",
       "      <th>1</th>\n",
       "      <td>Designer</td>\n",
       "      <td>Mechanical Drafters</td>\n",
       "      <td>Sensors, Inc</td>\n",
       "      <td>Saline</td>\n",
       "      <td>MI</td>\n",
       "      <td>No</td>\n",
       "      <td>2021</td>\n",
       "      <td>56181.0</td>\n",
       "      <td>56181.0</td>\n",
       "    </tr>\n",
       "    <tr>\n",
       "      <th>2</th>\n",
       "      <td>Data Analyst</td>\n",
       "      <td>Operations Research Analysts</td>\n",
       "      <td>HSP Group, Inc.</td>\n",
       "      <td>Bonita Springs</td>\n",
       "      <td>FL</td>\n",
       "      <td>No</td>\n",
       "      <td>2021</td>\n",
       "      <td>60000.0</td>\n",
       "      <td>59238.0</td>\n",
       "    </tr>\n",
       "    <tr>\n",
       "      <th>3</th>\n",
       "      <td>Pharmaceutical Chemist</td>\n",
       "      <td>Chemists</td>\n",
       "      <td>ANIP Acquisitions, Inc.</td>\n",
       "      <td>Baudette</td>\n",
       "      <td>MN</td>\n",
       "      <td>No</td>\n",
       "      <td>2021</td>\n",
       "      <td>56160.0</td>\n",
       "      <td>53851.0</td>\n",
       "    </tr>\n",
       "    <tr>\n",
       "      <th>4</th>\n",
       "      <td>Senior Systems Analyst JC60</td>\n",
       "      <td>Computer Systems Analysts</td>\n",
       "      <td>COGNIZANT TECHNOLOGY SOLUTIONS US CORP</td>\n",
       "      <td>COLLEGE STATION</td>\n",
       "      <td>TX</td>\n",
       "      <td>Yes</td>\n",
       "      <td>2021</td>\n",
       "      <td>70325.0</td>\n",
       "      <td>70325.0</td>\n",
       "    </tr>\n",
       "  </tbody>\n",
       "</table>\n",
       "</div>"
      ],
      "text/plain": [
       "                                    JOB_TITLE  \\\n",
       "0  APPLICATIONS SUPPORT ANALYST/ADMINISTRATOR   \n",
       "1                                    Designer   \n",
       "2                                Data Analyst   \n",
       "3                      Pharmaceutical Chemist   \n",
       "4                 Senior Systems Analyst JC60   \n",
       "\n",
       "                           SOC_TITLE                           EMPLOYER_NAME  \\\n",
       "0  Software Developers, Applications   SUEZ WATER MANAGEMENT & SERVICES INC.   \n",
       "1                Mechanical Drafters                            Sensors, Inc   \n",
       "2       Operations Research Analysts                        HSP Group, Inc.    \n",
       "3                           Chemists                 ANIP Acquisitions, Inc.   \n",
       "4          Computer Systems Analysts  COGNIZANT TECHNOLOGY SOLUTIONS US CORP   \n",
       "\n",
       "     EMPLOYER_CITY EMPLOYER_STATE H_1B_DEPENDENT BEGIN_YEAR   SALARY  \\\n",
       "0          Paramus             NJ             No       2021  92000.0   \n",
       "1           Saline             MI             No       2021  56181.0   \n",
       "2   Bonita Springs             FL             No       2021  60000.0   \n",
       "3         Baudette             MN             No       2021  56160.0   \n",
       "4  COLLEGE STATION             TX            Yes       2021  70325.0   \n",
       "\n",
       "   AVERAGE_SALARY  \n",
       "0         87485.0  \n",
       "1         56181.0  \n",
       "2         59238.0  \n",
       "3         53851.0  \n",
       "4         70325.0  "
      ]
     },
     "execution_count": 20,
     "metadata": {},
     "output_type": "execute_result"
    }
   ],
   "source": [
    "df2022.head(5)"
   ]
  },
  {
   "cell_type": "code",
   "execution_count": 21,
   "metadata": {},
   "outputs": [
    {
     "data": {
      "text/plain": [
       "count       625986\n",
       "unique        6253\n",
       "top       NEW YORK\n",
       "freq         31334\n",
       "Name: EMPLOYER_CITY, dtype: object"
      ]
     },
     "execution_count": 21,
     "metadata": {},
     "output_type": "execute_result"
    }
   ],
   "source": [
    "df2022['EMPLOYER_CITY'].str.upper().describe()"
   ]
  },
  {
   "cell_type": "code",
   "execution_count": 22,
   "metadata": {},
   "outputs": [
    {
     "data": {
      "text/plain": [
       "count      625986\n",
       "unique       8363\n",
       "top       Seattle\n",
       "freq        26298\n",
       "Name: EMPLOYER_CITY, dtype: object"
      ]
     },
     "execution_count": 22,
     "metadata": {},
     "output_type": "execute_result"
    }
   ],
   "source": [
    "df2022['EMPLOYER_CITY'].describe()"
   ]
  },
  {
   "cell_type": "code",
   "execution_count": 23,
   "metadata": {},
   "outputs": [
    {
     "data": {
      "text/plain": [
       "count                      625986\n",
       "unique                      66105\n",
       "top       AMAZON.COM SERVICES LLC\n",
       "freq                        16304\n",
       "Name: EMPLOYER_NAME, dtype: object"
      ]
     },
     "execution_count": 23,
     "metadata": {},
     "output_type": "execute_result"
    }
   ],
   "source": [
    "df2022['EMPLOYER_NAME'].str.upper().describe()"
   ]
  },
  {
   "cell_type": "code",
   "execution_count": 24,
   "metadata": {},
   "outputs": [
    {
     "data": {
      "text/plain": [
       "count                      625986\n",
       "unique                      68960\n",
       "top       Amazon.com Services LLC\n",
       "freq                        14653\n",
       "Name: EMPLOYER_NAME, dtype: object"
      ]
     },
     "execution_count": 24,
     "metadata": {},
     "output_type": "execute_result"
    }
   ],
   "source": [
    "df2022['EMPLOYER_NAME'].describe()"
   ]
  },
  {
   "cell_type": "markdown",
   "metadata": {},
   "source": [
    "* We can see that after making EMPLOYER_CITY and EMPLOYER_NAME Uppercase, their unique number changed.\n",
    "  \n",
    "* So we need to standarize them.\n",
    "  \n",
    "* Using **UPPERCASE** to standarize them"
   ]
  },
  {
   "cell_type": "code",
   "execution_count": 25,
   "metadata": {},
   "outputs": [
    {
     "data": {
      "text/html": [
       "<div>\n",
       "<style scoped>\n",
       "    .dataframe tbody tr th:only-of-type {\n",
       "        vertical-align: middle;\n",
       "    }\n",
       "\n",
       "    .dataframe tbody tr th {\n",
       "        vertical-align: top;\n",
       "    }\n",
       "\n",
       "    .dataframe thead th {\n",
       "        text-align: right;\n",
       "    }\n",
       "</style>\n",
       "<table border=\"1\" class=\"dataframe\">\n",
       "  <thead>\n",
       "    <tr style=\"text-align: right;\">\n",
       "      <th></th>\n",
       "      <th>JOB_TITLE</th>\n",
       "      <th>SOC_TITLE</th>\n",
       "      <th>EMPLOYER_STATE</th>\n",
       "      <th>H_1B_DEPENDENT</th>\n",
       "      <th>BEGIN_YEAR</th>\n",
       "      <th>SALARY</th>\n",
       "      <th>AVERAGE_SALARY</th>\n",
       "      <th>EMPLOYER</th>\n",
       "      <th>CITY</th>\n",
       "    </tr>\n",
       "  </thead>\n",
       "  <tbody>\n",
       "    <tr>\n",
       "      <th>0</th>\n",
       "      <td>APPLICATIONS SUPPORT ANALYST/ADMINISTRATOR</td>\n",
       "      <td>Software Developers, Applications</td>\n",
       "      <td>NJ</td>\n",
       "      <td>No</td>\n",
       "      <td>2021</td>\n",
       "      <td>92000.0</td>\n",
       "      <td>87485.0</td>\n",
       "      <td>SUEZ WATER MANAGEMENT &amp; SERVICES INC.</td>\n",
       "      <td>PARAMUS</td>\n",
       "    </tr>\n",
       "    <tr>\n",
       "      <th>1</th>\n",
       "      <td>Designer</td>\n",
       "      <td>Mechanical Drafters</td>\n",
       "      <td>MI</td>\n",
       "      <td>No</td>\n",
       "      <td>2021</td>\n",
       "      <td>56181.0</td>\n",
       "      <td>56181.0</td>\n",
       "      <td>SENSORS, INC</td>\n",
       "      <td>SALINE</td>\n",
       "    </tr>\n",
       "    <tr>\n",
       "      <th>2</th>\n",
       "      <td>Data Analyst</td>\n",
       "      <td>Operations Research Analysts</td>\n",
       "      <td>FL</td>\n",
       "      <td>No</td>\n",
       "      <td>2021</td>\n",
       "      <td>60000.0</td>\n",
       "      <td>59238.0</td>\n",
       "      <td>HSP GROUP, INC.</td>\n",
       "      <td>BONITA SPRINGS</td>\n",
       "    </tr>\n",
       "    <tr>\n",
       "      <th>3</th>\n",
       "      <td>Pharmaceutical Chemist</td>\n",
       "      <td>Chemists</td>\n",
       "      <td>MN</td>\n",
       "      <td>No</td>\n",
       "      <td>2021</td>\n",
       "      <td>56160.0</td>\n",
       "      <td>53851.0</td>\n",
       "      <td>ANIP ACQUISITIONS, INC.</td>\n",
       "      <td>BAUDETTE</td>\n",
       "    </tr>\n",
       "    <tr>\n",
       "      <th>4</th>\n",
       "      <td>Senior Systems Analyst JC60</td>\n",
       "      <td>Computer Systems Analysts</td>\n",
       "      <td>TX</td>\n",
       "      <td>Yes</td>\n",
       "      <td>2021</td>\n",
       "      <td>70325.0</td>\n",
       "      <td>70325.0</td>\n",
       "      <td>COGNIZANT TECHNOLOGY SOLUTIONS US CORP</td>\n",
       "      <td>COLLEGE STATION</td>\n",
       "    </tr>\n",
       "  </tbody>\n",
       "</table>\n",
       "</div>"
      ],
      "text/plain": [
       "                                    JOB_TITLE  \\\n",
       "0  APPLICATIONS SUPPORT ANALYST/ADMINISTRATOR   \n",
       "1                                    Designer   \n",
       "2                                Data Analyst   \n",
       "3                      Pharmaceutical Chemist   \n",
       "4                 Senior Systems Analyst JC60   \n",
       "\n",
       "                           SOC_TITLE EMPLOYER_STATE H_1B_DEPENDENT BEGIN_YEAR  \\\n",
       "0  Software Developers, Applications             NJ             No       2021   \n",
       "1                Mechanical Drafters             MI             No       2021   \n",
       "2       Operations Research Analysts             FL             No       2021   \n",
       "3                           Chemists             MN             No       2021   \n",
       "4          Computer Systems Analysts             TX            Yes       2021   \n",
       "\n",
       "    SALARY  AVERAGE_SALARY                                EMPLOYER  \\\n",
       "0  92000.0         87485.0   SUEZ WATER MANAGEMENT & SERVICES INC.   \n",
       "1  56181.0         56181.0                            SENSORS, INC   \n",
       "2  60000.0         59238.0                        HSP GROUP, INC.    \n",
       "3  56160.0         53851.0                 ANIP ACQUISITIONS, INC.   \n",
       "4  70325.0         70325.0  COGNIZANT TECHNOLOGY SOLUTIONS US CORP   \n",
       "\n",
       "              CITY  \n",
       "0          PARAMUS  \n",
       "1           SALINE  \n",
       "2   BONITA SPRINGS  \n",
       "3         BAUDETTE  \n",
       "4  COLLEGE STATION  "
      ]
     },
     "execution_count": 25,
     "metadata": {},
     "output_type": "execute_result"
    }
   ],
   "source": [
    "df2022['EMPLOYER'] = df2022['EMPLOYER_NAME'].str.upper()\n",
    "df2022['CITY'] = df2022['EMPLOYER_CITY'].str.upper()\n",
    "df2022 = df2022.drop(labels=['EMPLOYER_NAME', 'EMPLOYER_CITY'], axis=1)\n",
    "df2022.head(5)"
   ]
  },
  {
   "cell_type": "markdown",
   "metadata": {},
   "source": [
    "##### Standarize Job Titles"
   ]
  },
  {
   "cell_type": "code",
   "execution_count": 26,
   "metadata": {},
   "outputs": [
    {
     "data": {
      "text/plain": [
       "count                                625986\n",
       "unique                                 1057\n",
       "top       Software Developers, Applications\n",
       "freq                                 167633\n",
       "Name: SOC_TITLE, dtype: object"
      ]
     },
     "execution_count": 26,
     "metadata": {},
     "output_type": "execute_result"
    }
   ],
   "source": [
    "df2022['SOC_TITLE'].describe()"
   ]
  },
  {
   "cell_type": "code",
   "execution_count": 27,
   "metadata": {},
   "outputs": [
    {
     "data": {
      "text/plain": [
       "count                                625986\n",
       "unique                                  918\n",
       "top       SOFTWARE DEVELOPERS, APPLICATIONS\n",
       "freq                                 167786\n",
       "Name: SOC_TITLE, dtype: object"
      ]
     },
     "execution_count": 27,
     "metadata": {},
     "output_type": "execute_result"
    }
   ],
   "source": [
    "df2022['SOC_TITLE'].str.upper().describe()"
   ]
  },
  {
   "cell_type": "code",
   "execution_count": 28,
   "metadata": {},
   "outputs": [
    {
     "data": {
      "text/plain": [
       "count                625986\n",
       "unique               139328\n",
       "top       Software Engineer\n",
       "freq                  31255\n",
       "Name: JOB_TITLE, dtype: object"
      ]
     },
     "execution_count": 28,
     "metadata": {},
     "output_type": "execute_result"
    }
   ],
   "source": [
    "df2022['JOB_TITLE'].describe()"
   ]
  },
  {
   "cell_type": "markdown",
   "metadata": {},
   "source": [
    "* How to distingush jobs with same SOC_TITLE?\n",
    "  \n",
    "* How to aggregate similar JOB_TITLEs?"
   ]
  },
  {
   "cell_type": "code",
   "execution_count": 29,
   "metadata": {},
   "outputs": [
    {
     "data": {
      "text/plain": [
       "count                625986\n",
       "unique               131836\n",
       "top       SOFTWARE ENGINEER\n",
       "freq                  36512\n",
       "Name: JOB_TITLE, dtype: object"
      ]
     },
     "execution_count": 29,
     "metadata": {},
     "output_type": "execute_result"
    }
   ],
   "source": [
    "df2022['JOB_TITLE'].str.upper().describe()"
   ]
  }
 ],
 "metadata": {
  "kernelspec": {
   "display_name": "Python 3.9.12 ('base')",
   "language": "python",
   "name": "python3"
  },
  "language_info": {
   "codemirror_mode": {
    "name": "ipython",
    "version": 3
   },
   "file_extension": ".py",
   "mimetype": "text/x-python",
   "name": "python",
   "nbconvert_exporter": "python",
   "pygments_lexer": "ipython3",
   "version": "3.9.12"
  },
  "orig_nbformat": 4,
  "vscode": {
   "interpreter": {
    "hash": "890aaaffd9b48d6288804fa0afe08e52e04b080462dc1629116fcf682fe03642"
   }
  }
 },
 "nbformat": 4,
 "nbformat_minor": 2
}
